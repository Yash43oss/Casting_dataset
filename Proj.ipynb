{
  "nbformat": 4,
  "nbformat_minor": 0,
  "metadata": {
    "colab": {
      "provenance": [],
      "authorship_tag": "ABX9TyN+x7kjrlN+ML9YTVJY3Wr2",
      "include_colab_link": true
    },
    "kernelspec": {
      "name": "python3",
      "display_name": "Python 3"
    },
    "language_info": {
      "name": "python"
    }
  },
  "cells": [
    {
      "cell_type": "markdown",
      "metadata": {
        "id": "view-in-github",
        "colab_type": "text"
      },
      "source": [
        "<a href=\"https://colab.research.google.com/github/Yash43oss/Casting_dataset/blob/main/Proj.ipynb\" target=\"_parent\"><img src=\"https://colab.research.google.com/assets/colab-badge.svg\" alt=\"Open In Colab\"/></a>"
      ]
    },
    {
      "cell_type": "code",
      "execution_count": 3,
      "metadata": {
        "id": "JFrEVgsafbRL"
      },
      "outputs": [],
      "source": [
        "import os\n",
        "import cv2\n",
        "import numpy as np\n",
        "from sklearn.model_selection import train_test_split\n",
        "from sklearn.ensemble import RandomForestClassifier\n",
        "from sklearn.metrics import classification_report, accuracy_score\n",
        "from skimage.feature import hog"
      ]
    },
    {
      "cell_type": "code",
      "source": [
        "train_ok_path = '/content/drive/MyDrive/archive/casting_data/casting_data/train/ok_front'\n",
        "train_def_path = '/content/drive/MyDrive/archive/casting_data/casting_data/train/def_front'\n",
        "test_ok_path = '/content/drive/MyDrive/archive/casting_data/casting_data/test/ok_front'\n",
        "test_def_path = '/content/drive/MyDrive/archive/casting_data/casting_data/test/def_front'"
      ],
      "metadata": {
        "id": "KpSRlQZdnt-P"
      },
      "execution_count": 4,
      "outputs": []
    },
    {
      "cell_type": "code",
      "source": [
        "def extract_features(image):\n",
        "    features = hog(image, orientations=9, pixels_per_cell=(8, 8), cells_per_block=(2, 2), transform_sqrt=True)\n",
        "    return features"
      ],
      "metadata": {
        "id": "AW_wUB_Qo-Es"
      },
      "execution_count": 5,
      "outputs": []
    },
    {
      "cell_type": "code",
      "source": [
        "def load_data(folder_path, label):\n",
        "    images = []\n",
        "    labels = []\n",
        "    for filename in os.listdir(folder_path):\n",
        "        img_path = os.path.join(folder_path, filename)\n",
        "        image = cv2.imread(img_path, cv2.IMREAD_GRAYSCALE)\n",
        "        resized_img = cv2.resize(image, (300, 300))  # Resize images to a uniform size\n",
        "        features = extract_features(resized_img)\n",
        "        images.append(features)\n",
        "        labels.append(label)\n",
        "    return images, labels"
      ],
      "metadata": {
        "id": "7iRruG0xpBuO"
      },
      "execution_count": 6,
      "outputs": []
    },
    {
      "cell_type": "code",
      "source": [
        "ok_images, ok_labels = load_data(train_ok_path, 0)  # Label 0 for 'Ok'\n",
        "def_images, def_labels = load_data(train_def_path, 1)  # Label 1 for 'Defective'"
      ],
      "metadata": {
        "id": "o-zi51xCpGvx"
      },
      "execution_count": 7,
      "outputs": []
    },
    {
      "cell_type": "code",
      "source": [
        "X = np.vstack((ok_images, def_images))\n",
        "y = np.hstack((ok_labels, def_labels))"
      ],
      "metadata": {
        "id": "AJOzAJ9lpL9B"
      },
      "execution_count": 8,
      "outputs": []
    },
    {
      "cell_type": "code",
      "source": [
        "X_train, X_val, y_train, y_val = train_test_split(X, y, test_size=0.1, random_state=21)"
      ],
      "metadata": {
        "id": "jw6ELu7NrM9z"
      },
      "execution_count": 9,
      "outputs": []
    },
    {
      "cell_type": "code",
      "source": [
        "clf = RandomForestClassifier(n_estimators=100, random_state=42)\n",
        "clf.fit(X_train, y_train)"
      ],
      "metadata": {
        "colab": {
          "base_uri": "https://localhost:8080/",
          "height": 74
        },
        "id": "F0rPXj5BraPI",
        "outputId": "923fd842-366a-40fc-8b71-642235e03237"
      },
      "execution_count": 10,
      "outputs": [
        {
          "output_type": "execute_result",
          "data": {
            "text/plain": [
              "RandomForestClassifier(random_state=42)"
            ],
            "text/html": [
              "<style>#sk-container-id-1 {color: black;background-color: white;}#sk-container-id-1 pre{padding: 0;}#sk-container-id-1 div.sk-toggleable {background-color: white;}#sk-container-id-1 label.sk-toggleable__label {cursor: pointer;display: block;width: 100%;margin-bottom: 0;padding: 0.3em;box-sizing: border-box;text-align: center;}#sk-container-id-1 label.sk-toggleable__label-arrow:before {content: \"▸\";float: left;margin-right: 0.25em;color: #696969;}#sk-container-id-1 label.sk-toggleable__label-arrow:hover:before {color: black;}#sk-container-id-1 div.sk-estimator:hover label.sk-toggleable__label-arrow:before {color: black;}#sk-container-id-1 div.sk-toggleable__content {max-height: 0;max-width: 0;overflow: hidden;text-align: left;background-color: #f0f8ff;}#sk-container-id-1 div.sk-toggleable__content pre {margin: 0.2em;color: black;border-radius: 0.25em;background-color: #f0f8ff;}#sk-container-id-1 input.sk-toggleable__control:checked~div.sk-toggleable__content {max-height: 200px;max-width: 100%;overflow: auto;}#sk-container-id-1 input.sk-toggleable__control:checked~label.sk-toggleable__label-arrow:before {content: \"▾\";}#sk-container-id-1 div.sk-estimator input.sk-toggleable__control:checked~label.sk-toggleable__label {background-color: #d4ebff;}#sk-container-id-1 div.sk-label input.sk-toggleable__control:checked~label.sk-toggleable__label {background-color: #d4ebff;}#sk-container-id-1 input.sk-hidden--visually {border: 0;clip: rect(1px 1px 1px 1px);clip: rect(1px, 1px, 1px, 1px);height: 1px;margin: -1px;overflow: hidden;padding: 0;position: absolute;width: 1px;}#sk-container-id-1 div.sk-estimator {font-family: monospace;background-color: #f0f8ff;border: 1px dotted black;border-radius: 0.25em;box-sizing: border-box;margin-bottom: 0.5em;}#sk-container-id-1 div.sk-estimator:hover {background-color: #d4ebff;}#sk-container-id-1 div.sk-parallel-item::after {content: \"\";width: 100%;border-bottom: 1px solid gray;flex-grow: 1;}#sk-container-id-1 div.sk-label:hover label.sk-toggleable__label {background-color: #d4ebff;}#sk-container-id-1 div.sk-serial::before {content: \"\";position: absolute;border-left: 1px solid gray;box-sizing: border-box;top: 0;bottom: 0;left: 50%;z-index: 0;}#sk-container-id-1 div.sk-serial {display: flex;flex-direction: column;align-items: center;background-color: white;padding-right: 0.2em;padding-left: 0.2em;position: relative;}#sk-container-id-1 div.sk-item {position: relative;z-index: 1;}#sk-container-id-1 div.sk-parallel {display: flex;align-items: stretch;justify-content: center;background-color: white;position: relative;}#sk-container-id-1 div.sk-item::before, #sk-container-id-1 div.sk-parallel-item::before {content: \"\";position: absolute;border-left: 1px solid gray;box-sizing: border-box;top: 0;bottom: 0;left: 50%;z-index: -1;}#sk-container-id-1 div.sk-parallel-item {display: flex;flex-direction: column;z-index: 1;position: relative;background-color: white;}#sk-container-id-1 div.sk-parallel-item:first-child::after {align-self: flex-end;width: 50%;}#sk-container-id-1 div.sk-parallel-item:last-child::after {align-self: flex-start;width: 50%;}#sk-container-id-1 div.sk-parallel-item:only-child::after {width: 0;}#sk-container-id-1 div.sk-dashed-wrapped {border: 1px dashed gray;margin: 0 0.4em 0.5em 0.4em;box-sizing: border-box;padding-bottom: 0.4em;background-color: white;}#sk-container-id-1 div.sk-label label {font-family: monospace;font-weight: bold;display: inline-block;line-height: 1.2em;}#sk-container-id-1 div.sk-label-container {text-align: center;}#sk-container-id-1 div.sk-container {/* jupyter's `normalize.less` sets `[hidden] { display: none; }` but bootstrap.min.css set `[hidden] { display: none !important; }` so we also need the `!important` here to be able to override the default hidden behavior on the sphinx rendered scikit-learn.org. See: https://github.com/scikit-learn/scikit-learn/issues/21755 */display: inline-block !important;position: relative;}#sk-container-id-1 div.sk-text-repr-fallback {display: none;}</style><div id=\"sk-container-id-1\" class=\"sk-top-container\"><div class=\"sk-text-repr-fallback\"><pre>RandomForestClassifier(random_state=42)</pre><b>In a Jupyter environment, please rerun this cell to show the HTML representation or trust the notebook. <br />On GitHub, the HTML representation is unable to render, please try loading this page with nbviewer.org.</b></div><div class=\"sk-container\" hidden><div class=\"sk-item\"><div class=\"sk-estimator sk-toggleable\"><input class=\"sk-toggleable__control sk-hidden--visually\" id=\"sk-estimator-id-1\" type=\"checkbox\" checked><label for=\"sk-estimator-id-1\" class=\"sk-toggleable__label sk-toggleable__label-arrow\">RandomForestClassifier</label><div class=\"sk-toggleable__content\"><pre>RandomForestClassifier(random_state=42)</pre></div></div></div></div></div>"
            ]
          },
          "metadata": {},
          "execution_count": 10
        }
      ]
    },
    {
      "cell_type": "code",
      "source": [
        "y_pred = clf.predict(X_val)"
      ],
      "metadata": {
        "id": "QLfiTaRrrdKF"
      },
      "execution_count": 11,
      "outputs": []
    },
    {
      "cell_type": "code",
      "source": [
        "print(\"Classification Report:\")\n",
        "print(classification_report(y_val, y_pred))\n",
        "print(\"Accuracy:\", accuracy_score(y_val, y_pred))"
      ],
      "metadata": {
        "colab": {
          "base_uri": "https://localhost:8080/"
        },
        "id": "CTicrzhLsgDL",
        "outputId": "044c34ea-ac2d-4dce-d476-e0d801022237"
      },
      "execution_count": 12,
      "outputs": [
        {
          "output_type": "stream",
          "name": "stdout",
          "text": [
            "Classification Report:\n",
            "              precision    recall  f1-score   support\n",
            "\n",
            "           0       0.93      0.89      0.91       279\n",
            "           1       0.92      0.95      0.94       385\n",
            "\n",
            "    accuracy                           0.93       664\n",
            "   macro avg       0.93      0.92      0.92       664\n",
            "weighted avg       0.93      0.93      0.93       664\n",
            "\n",
            "Accuracy: 0.9262048192771084\n"
          ]
        }
      ]
    },
    {
      "cell_type": "code",
      "source": [
        "validation_predictions = clf.predict(X_val)\n",
        "print(validation_predictions)"
      ],
      "metadata": {
        "colab": {
          "base_uri": "https://localhost:8080/"
        },
        "id": "Rgw3CMqG4Lhz",
        "outputId": "faf0fa0f-a168-4ac3-8a74-b87e8b223c9f"
      },
      "execution_count": 15,
      "outputs": [
        {
          "output_type": "stream",
          "name": "stdout",
          "text": [
            "[1 0 1 1 0 1 1 1 1 0 0 1 0 1 0 0 0 0 1 1 0 0 1 1 1 0 1 1 0 1 0 0 0 1 1 0 0\n",
            " 1 1 1 1 1 1 1 1 1 1 1 1 1 0 1 1 1 0 0 0 0 0 0 0 0 1 1 1 0 1 0 0 0 0 0 0 1\n",
            " 1 0 1 0 1 1 1 1 1 0 0 1 0 1 1 1 0 1 1 0 1 0 0 0 1 0 1 1 1 0 1 1 0 0 1 1 1\n",
            " 1 1 1 0 0 0 0 1 1 0 1 1 1 0 0 0 0 0 1 1 0 1 1 0 1 0 0 1 1 1 0 1 0 1 0 1 0\n",
            " 1 1 1 1 1 1 0 0 1 1 1 1 1 1 0 1 1 1 1 1 0 0 0 0 1 0 0 0 1 1 0 0 0 0 1 1 0\n",
            " 1 1 1 1 0 1 0 0 1 1 1 0 1 0 0 1 1 0 1 1 1 1 0 0 0 1 1 1 0 1 1 1 1 0 1 1 0\n",
            " 1 0 1 1 1 1 1 0 0 1 1 1 0 1 0 1 0 0 1 0 1 0 1 1 1 0 1 0 1 1 0 0 0 1 1 1 1\n",
            " 1 1 0 0 1 0 0 1 1 1 1 1 1 1 1 1 1 1 1 1 0 1 1 0 1 1 0 1 1 1 0 1 1 0 0 0 1\n",
            " 0 1 1 1 1 0 1 1 1 1 0 0 1 1 1 1 1 0 0 0 1 1 0 0 1 0 1 1 1 0 1 1 1 1 1 0 1\n",
            " 0 1 0 0 0 1 0 0 0 1 1 1 0 1 1 1 1 0 1 1 0 0 0 0 0 1 1 1 1 1 1 1 0 1 1 1 1\n",
            " 0 0 0 0 0 1 0 0 0 1 1 1 1 1 1 0 1 1 1 0 0 1 1 1 1 1 1 0 1 0 1 1 1 1 0 1 1\n",
            " 1 1 0 1 1 1 0 0 0 0 0 1 1 0 1 1 1 1 1 1 1 1 1 1 0 1 0 1 0 0 0 1 0 1 1 1 0\n",
            " 1 0 1 1 1 0 1 1 1 1 0 0 0 1 0 0 1 1 0 1 1 1 1 1 0 1 0 1 1 1 1 0 1 1 1 0 1\n",
            " 0 1 1 0 1 0 1 0 0 1 0 1 0 0 1 1 0 1 1 0 0 1 1 1 1 1 1 1 0 1 0 0 1 1 1 0 1\n",
            " 1 1 0 1 1 0 0 1 0 0 1 0 0 1 1 1 0 1 0 0 1 1 0 0 1 1 1 1 1 0 1 0 1 1 1 1 0\n",
            " 1 1 1 1 0 0 0 0 1 0 1 1 0 0 1 1 1 0 0 1 1 0 1 1 0 0 1 0 1 0 0 1 0 1 0 0 1\n",
            " 0 1 1 0 1 1 1 1 1 0 0 0 1 1 0 1 0 1 1 0 0 0 0 1 0 0 1 1 1 0 1 0 1 0 0 1 1\n",
            " 1 1 0 0 0 1 0 1 1 0 0 1 0 1 0 0 0 1 1 0 0 0 1 1 0 1 0 1 1 0 1 1 1 1 0]\n"
          ]
        }
      ]
    },
    {
      "cell_type": "code",
      "source": [
        "# Calculate the number of misclassified images and confidence levels\n",
        "misclassified_count = 0\n",
        "misclassified_confidence = []\n",
        "\n",
        "for idx in range(len(y_pred)):\n",
        "    if y_pred[idx] != y_val[idx]:  # Check for misclassification\n",
        "        misclassified_count += 1\n",
        "\n",
        "        # Get the index of the predicted class in the predicted probability array\n",
        "        pred_index = clf.classes_.tolist().index(y_pred[idx])\n",
        "        # Obtain the confidence level for the misclassified prediction\n",
        "        confidence = clf.predict_proba(X_val[idx].reshape(1, -1))[0][pred_index] * 100\n",
        "        misclassified_confidence.append(confidence)\n",
        "\n",
        "# Calculate the average confidence for misclassified images\n",
        "if misclassified_count > 0:\n",
        "    average_confidence = sum(misclassified_confidence) / misclassified_count\n",
        "else:\n",
        "    average_confidence = 0\n",
        "\n",
        "print(f\"Number of misclassified images: {misclassified_count}\")\n",
        "print(f\"Average confidence in misclassified images: {average_confidence:.2f}%\")\n",
        "\n",
        "\n"
      ],
      "metadata": {
        "colab": {
          "base_uri": "https://localhost:8080/"
        },
        "id": "qhJbOHyS8Xy2",
        "outputId": "d1ef056c-47fe-4374-96c4-9fbef8fb5d03"
      },
      "execution_count": 31,
      "outputs": [
        {
          "output_type": "stream",
          "name": "stdout",
          "text": [
            "Number of misclassified images: 49\n",
            "Average confidence in misclassified images: 54.49%\n"
          ]
        }
      ]
    },
    {
      "cell_type": "code",
      "source": [
        "import matplotlib.pyplot as plt\n",
        "\n",
        "# Calculate the number of misclassified images and confidence levels\n",
        "misclassified_count = 0\n",
        "misclassified_confidence = []\n",
        "\n",
        "for idx in range(len(y_pred)):\n",
        "    if y_pred[idx] != y_val[idx]:  # Check for misclassification\n",
        "        misclassified_count += 1\n",
        "\n",
        "        # Get the index of the predicted class in the predicted probability array\n",
        "        pred_index = clf.classes_.tolist().index(y_pred[idx])\n",
        "        # Obtain the confidence level for the misclassified prediction\n",
        "        confidence = clf.predict_proba(X_val[idx].reshape(1, -1))[0][pred_index] * 100\n",
        "        misclassified_confidence.append(confidence)\n",
        "\n",
        "# Plotting the histogram of confidence levels for misclassified images\n",
        "plt.figure(figsize=(8, 6))\n",
        "plt.hist(misclassified_confidence, bins=20, alpha=0.7, color='blue')\n",
        "plt.xlabel('Confidence (%)')\n",
        "plt.ylabel('Frequency')\n",
        "plt.title('Histogram of Confidence Levels for Misclassified Images')\n",
        "plt.grid(True)\n",
        "plt.show()\n"
      ],
      "metadata": {
        "colab": {
          "base_uri": "https://localhost:8080/",
          "height": 564
        },
        "id": "H_F2rHNXA2uP",
        "outputId": "94e129cb-4d16-44f5-bcf1-14361a65d485"
      },
      "execution_count": 32,
      "outputs": [
        {
          "output_type": "display_data",
          "data": {
            "text/plain": [
              "<Figure size 800x600 with 1 Axes>"
            ],
            "image/png": "[encoded data removed]"
          },
          "metadata": {}
        }
      ]
    }
  ]
}